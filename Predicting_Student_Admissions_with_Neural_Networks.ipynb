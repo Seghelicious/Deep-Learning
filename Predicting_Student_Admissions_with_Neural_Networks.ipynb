{
  "nbformat": 4,
  "nbformat_minor": 0,
  "metadata": {
    "colab": {
      "name": "Predicting Student Admissions with Neural Networks",
      "provenance": [],
      "collapsed_sections": [],
      "mount_file_id": "1UDNVcLwr0ltnfZrQopy8Ee4Q1uK9YzEZ",
      "authorship_tag": "ABX9TyP0bNRuNV5lswmqON9UZXIB",
      "include_colab_link": true
    },
    "kernelspec": {
      "name": "python3",
      "display_name": "Python 3"
    }
  },
  "cells": [
    {
      "cell_type": "markdown",
      "metadata": {
        "id": "view-in-github",
        "colab_type": "text"
      },
      "source": [
        "<a href=\"https://colab.research.google.com/github/Seghelicious/Deep-Learning/blob/master/Predicting_Student_Admissions_with_Neural_Networks.ipynb\" target=\"_parent\"><img src=\"https://colab.research.google.com/assets/colab-badge.svg\" alt=\"Open In Colab\"/></a>"
      ]
    },
    {
      "cell_type": "markdown",
      "metadata": {
        "id": "cSHJYIY8pjTE",
        "colab_type": "text"
      },
      "source": [
        "In this notebook, I am predicting student admissions to the UCLA Graduate school based on three pieces of data:\n",
        "\n",
        "- GRE Scores (Test)\n",
        "- GPA Scores (Grades)\n",
        "- Class rank (1 - 4)\n",
        "The dataset is sourced from: http://www.ats.ucla.edu/"
      ]
    },
    {
      "cell_type": "code",
      "metadata": {
        "id": "0tAIDOWAqqVW",
        "colab_type": "code",
        "colab": {
          "base_uri": "https://localhost:8080/",
          "height": 35
        },
        "outputId": "9add0070-ee47-475e-bf2e-c74a6a302867"
      },
      "source": [
        "from google.colab import drive\n",
        "drive.mount('/content/drive/')"
      ],
      "execution_count": 1,
      "outputs": [
        {
          "output_type": "stream",
          "text": [
            "Drive already mounted at /content/drive/; to attempt to forcibly remount, call drive.mount(\"/content/drive/\", force_remount=True).\n"
          ],
          "name": "stdout"
        }
      ]
    },
    {
      "cell_type": "markdown",
      "metadata": {
        "id": "I-tpYmQCqUyg",
        "colab_type": "text"
      },
      "source": [
        "##**Loading the Data**##"
      ]
    },
    {
      "cell_type": "code",
      "metadata": {
        "id": "ESc6Qy4opOw4",
        "colab_type": "code",
        "colab": {
          "base_uri": "https://localhost:8080/",
          "height": 194
        },
        "outputId": "e81461c0-c817-41c4-d471-b99f76394da6"
      },
      "source": [
        "# Importing pandas and numpy\n",
        "import pandas as pd\n",
        "import numpy as np\n",
        "import matplotlib.pyplot as plt\n",
        "%matplotlib inline\n",
        "from sklearn import preprocessing\n",
        "from sklearn.preprocessing import MinMaxScaler\n",
        "\n",
        "# Reading the csv file into a pandas DataFrame\n",
        "student_data = pd.read_csv('/content/drive/My Drive/Udacity - Deep Learning /student_data.csv')\n",
        "\n",
        "# Printing out the first 10 rows of our data\n",
        "student_data.head()"
      ],
      "execution_count": 2,
      "outputs": [
        {
          "output_type": "execute_result",
          "data": {
            "text/html": [
              "<div>\n",
              "<style scoped>\n",
              "    .dataframe tbody tr th:only-of-type {\n",
              "        vertical-align: middle;\n",
              "    }\n",
              "\n",
              "    .dataframe tbody tr th {\n",
              "        vertical-align: top;\n",
              "    }\n",
              "\n",
              "    .dataframe thead th {\n",
              "        text-align: right;\n",
              "    }\n",
              "</style>\n",
              "<table border=\"1\" class=\"dataframe\">\n",
              "  <thead>\n",
              "    <tr style=\"text-align: right;\">\n",
              "      <th></th>\n",
              "      <th>admit</th>\n",
              "      <th>gre</th>\n",
              "      <th>gpa</th>\n",
              "      <th>rank</th>\n",
              "    </tr>\n",
              "  </thead>\n",
              "  <tbody>\n",
              "    <tr>\n",
              "      <th>0</th>\n",
              "      <td>0</td>\n",
              "      <td>380</td>\n",
              "      <td>3.61</td>\n",
              "      <td>3</td>\n",
              "    </tr>\n",
              "    <tr>\n",
              "      <th>1</th>\n",
              "      <td>1</td>\n",
              "      <td>660</td>\n",
              "      <td>3.67</td>\n",
              "      <td>3</td>\n",
              "    </tr>\n",
              "    <tr>\n",
              "      <th>2</th>\n",
              "      <td>1</td>\n",
              "      <td>800</td>\n",
              "      <td>4.00</td>\n",
              "      <td>1</td>\n",
              "    </tr>\n",
              "    <tr>\n",
              "      <th>3</th>\n",
              "      <td>1</td>\n",
              "      <td>640</td>\n",
              "      <td>3.19</td>\n",
              "      <td>4</td>\n",
              "    </tr>\n",
              "    <tr>\n",
              "      <th>4</th>\n",
              "      <td>0</td>\n",
              "      <td>520</td>\n",
              "      <td>2.93</td>\n",
              "      <td>4</td>\n",
              "    </tr>\n",
              "  </tbody>\n",
              "</table>\n",
              "</div>"
            ],
            "text/plain": [
              "   admit  gre   gpa  rank\n",
              "0      0  380  3.61     3\n",
              "1      1  660  3.67     3\n",
              "2      1  800  4.00     1\n",
              "3      1  640  3.19     4\n",
              "4      0  520  2.93     4"
            ]
          },
          "metadata": {
            "tags": []
          },
          "execution_count": 2
        }
      ]
    },
    {
      "cell_type": "code",
      "metadata": {
        "id": "D_RxVBa-xx2N",
        "colab_type": "code",
        "colab": {
          "base_uri": "https://localhost:8080/",
          "height": 279
        },
        "outputId": "7ecdf682-3ee0-46b2-8cf3-2315ff54d6dd"
      },
      "source": [
        "# Function to help us plot\n",
        "def plot_points(student_data):\n",
        "    X = np.array(student_data[['gre', 'gpa']])\n",
        "    y = np.array(student_data['admit'])\n",
        "    admitted = X[np.argwhere(y == 1)]\n",
        "    rejected = X[np.argwhere(y == 0)]\n",
        "    plt.scatter([s[0][0] for s in rejected], [s[0][1] for s in rejected], s = 25, color = 'red', edgecolor = 'k')\n",
        "    plt.scatter([s[0][0] for s in admitted], [s[0][1] for s in admitted], s = 25, color = 'blue', edgecolor = 'k')\n",
        "    plt.xlabel('Test (GRE)')\n",
        "    plt.ylabel('Grades (GPA)')\n",
        "    \n",
        "# Plotting the points\n",
        "plot_points(student_data)\n",
        "plt.show()"
      ],
      "execution_count": 3,
      "outputs": [
        {
          "output_type": "display_data",
          "data": {
            "image/png": "[encoded data removed]",
            "text/plain": [
              "<Figure size 432x288 with 1 Axes>"
            ]
          },
          "metadata": {
            "tags": [],
            "needs_background": "light"
          }
        }
      ]
    },
    {
      "cell_type": "markdown",
      "metadata": {
        "id": "Qk0OQ6WNsrlT",
        "colab_type": "text"
      },
      "source": [
        "Roughly, it looks like the students with high scores in the grades and test passed, while the ones with low scores didn't, but the data is not as nicely separable as we hoped it would. I will make 4 plots, with each plot representing a rank."
      ]
    },
    {
      "cell_type": "code",
      "metadata": {
        "id": "A7qaJ4D0s41v",
        "colab_type": "code",
        "colab": {
          "base_uri": "https://localhost:8080/",
          "height": 1000
        },
        "outputId": "6acca87b-6377-442b-bc26-8d98dc787e4a"
      },
      "source": [
        "# Separating the ranks\n",
        "rank1 = student_data[student_data['rank'] == 1]\n",
        "rank2 = student_data[student_data['rank'] == 2]\n",
        "rank3 = student_data[student_data['rank'] == 3]\n",
        "rank4 = student_data[student_data['rank'] == 4]\n",
        "\n",
        "# Plotting the graphs\n",
        "plot_points(rank1)\n",
        "plt.title('Rank 1')\n",
        "plt.show()\n",
        "plot_points(rank2)\n",
        "plt.title('Rank 2')\n",
        "plt.show()\n",
        "plot_points(rank3)\n",
        "plt.title('Rank 3')\n",
        "plt.show()\n",
        "plot_points(rank4)\n",
        "plt.title('Rank 4')\n",
        "plt.show()"
      ],
      "execution_count": 4,
      "outputs": [
        {
          "output_type": "display_data",
          "data": {
            "image/png": "[encoded data removed]",
            "text/plain": [
              "<Figure size 432x288 with 1 Axes>"
            ]
          },
          "metadata": {
            "tags": [],
            "needs_background": "light"
          }
        },
        {
          "output_type": "display_data",
          "data": {
            "image/png": "[encoded data removed]",
            "text/plain": [
              "<Figure size 432x288 with 1 Axes>"
            ]
          },
          "metadata": {
            "tags": [],
            "needs_background": "light"
          }
        },
        {
          "output_type": "display_data",
          "data": {
            "image/png": "[encoded data removed]",
            "text/plain": [
              "<Figure size 432x288 with 1 Axes>"
            ]
          },
          "metadata": {
            "tags": [],
            "needs_background": "light"
          }
        },
        {
          "output_type": "display_data",
          "data": {
            "image/png": "[encoded data removed]",
            "text/plain": [
              "<Figure size 432x288 with 1 Axes>"
            ]
          },
          "metadata": {
            "tags": [],
            "needs_background": "light"
          }
        }
      ]
    },
    {
      "cell_type": "markdown",
      "metadata": {
        "id": "4UwM_PI5tpmn",
        "colab_type": "text"
      },
      "source": [
        "This looks more promising, as it seems that the lower the rank, the higher the acceptance rate. I will one-hot encode the rank and use it as one of the inputs. "
      ]
    },
    {
      "cell_type": "code",
      "metadata": {
        "id": "XJjMwYtrt6kd",
        "colab_type": "code",
        "colab": {
          "base_uri": "https://localhost:8080/",
          "height": 340
        },
        "outputId": "fde62812-7151-45e2-fba9-5f760823858a"
      },
      "source": [
        "# Make dummy variables for rank\n",
        "student_data_ohe = pd.concat([student_data, pd.get_dummies(student_data['rank'], prefix = 'rank')], axis = 1)\n",
        "\n",
        "# Drop the previous rank column\n",
        "student_data_ohe = student_data_ohe.drop('rank', axis = 1)\n",
        "\n",
        "# Print the first 10 rows of our data\n",
        "student_data_ohe.head(10)"
      ],
      "execution_count": 5,
      "outputs": [
        {
          "output_type": "execute_result",
          "data": {
            "text/html": [
              "<div>\n",
              "<style scoped>\n",
              "    .dataframe tbody tr th:only-of-type {\n",
              "        vertical-align: middle;\n",
              "    }\n",
              "\n",
              "    .dataframe tbody tr th {\n",
              "        vertical-align: top;\n",
              "    }\n",
              "\n",
              "    .dataframe thead th {\n",
              "        text-align: right;\n",
              "    }\n",
              "</style>\n",
              "<table border=\"1\" class=\"dataframe\">\n",
              "  <thead>\n",
              "    <tr style=\"text-align: right;\">\n",
              "      <th></th>\n",
              "      <th>admit</th>\n",
              "      <th>gre</th>\n",
              "      <th>gpa</th>\n",
              "      <th>rank_1</th>\n",
              "      <th>rank_2</th>\n",
              "      <th>rank_3</th>\n",
              "      <th>rank_4</th>\n",
              "    </tr>\n",
              "  </thead>\n",
              "  <tbody>\n",
              "    <tr>\n",
              "      <th>0</th>\n",
              "      <td>0</td>\n",
              "      <td>380</td>\n",
              "      <td>3.61</td>\n",
              "      <td>0</td>\n",
              "      <td>0</td>\n",
              "      <td>1</td>\n",
              "      <td>0</td>\n",
              "    </tr>\n",
              "    <tr>\n",
              "      <th>1</th>\n",
              "      <td>1</td>\n",
              "      <td>660</td>\n",
              "      <td>3.67</td>\n",
              "      <td>0</td>\n",
              "      <td>0</td>\n",
              "      <td>1</td>\n",
              "      <td>0</td>\n",
              "    </tr>\n",
              "    <tr>\n",
              "      <th>2</th>\n",
              "      <td>1</td>\n",
              "      <td>800</td>\n",
              "      <td>4.00</td>\n",
              "      <td>1</td>\n",
              "      <td>0</td>\n",
              "      <td>0</td>\n",
              "      <td>0</td>\n",
              "    </tr>\n",
              "    <tr>\n",
              "      <th>3</th>\n",
              "      <td>1</td>\n",
              "      <td>640</td>\n",
              "      <td>3.19</td>\n",
              "      <td>0</td>\n",
              "      <td>0</td>\n",
              "      <td>0</td>\n",
              "      <td>1</td>\n",
              "    </tr>\n",
              "    <tr>\n",
              "      <th>4</th>\n",
              "      <td>0</td>\n",
              "      <td>520</td>\n",
              "      <td>2.93</td>\n",
              "      <td>0</td>\n",
              "      <td>0</td>\n",
              "      <td>0</td>\n",
              "      <td>1</td>\n",
              "    </tr>\n",
              "    <tr>\n",
              "      <th>5</th>\n",
              "      <td>1</td>\n",
              "      <td>760</td>\n",
              "      <td>3.00</td>\n",
              "      <td>0</td>\n",
              "      <td>1</td>\n",
              "      <td>0</td>\n",
              "      <td>0</td>\n",
              "    </tr>\n",
              "    <tr>\n",
              "      <th>6</th>\n",
              "      <td>1</td>\n",
              "      <td>560</td>\n",
              "      <td>2.98</td>\n",
              "      <td>1</td>\n",
              "      <td>0</td>\n",
              "      <td>0</td>\n",
              "      <td>0</td>\n",
              "    </tr>\n",
              "    <tr>\n",
              "      <th>7</th>\n",
              "      <td>0</td>\n",
              "      <td>400</td>\n",
              "      <td>3.08</td>\n",
              "      <td>0</td>\n",
              "      <td>1</td>\n",
              "      <td>0</td>\n",
              "      <td>0</td>\n",
              "    </tr>\n",
              "    <tr>\n",
              "      <th>8</th>\n",
              "      <td>1</td>\n",
              "      <td>540</td>\n",
              "      <td>3.39</td>\n",
              "      <td>0</td>\n",
              "      <td>0</td>\n",
              "      <td>1</td>\n",
              "      <td>0</td>\n",
              "    </tr>\n",
              "    <tr>\n",
              "      <th>9</th>\n",
              "      <td>0</td>\n",
              "      <td>700</td>\n",
              "      <td>3.92</td>\n",
              "      <td>0</td>\n",
              "      <td>1</td>\n",
              "      <td>0</td>\n",
              "      <td>0</td>\n",
              "    </tr>\n",
              "  </tbody>\n",
              "</table>\n",
              "</div>"
            ],
            "text/plain": [
              "   admit  gre   gpa  rank_1  rank_2  rank_3  rank_4\n",
              "0      0  380  3.61       0       0       1       0\n",
              "1      1  660  3.67       0       0       1       0\n",
              "2      1  800  4.00       1       0       0       0\n",
              "3      1  640  3.19       0       0       0       1\n",
              "4      0  520  2.93       0       0       0       1\n",
              "5      1  760  3.00       0       1       0       0\n",
              "6      1  560  2.98       1       0       0       0\n",
              "7      0  400  3.08       0       1       0       0\n",
              "8      1  540  3.39       0       0       1       0\n",
              "9      0  700  3.92       0       1       0       0"
            ]
          },
          "metadata": {
            "tags": []
          },
          "execution_count": 5
        }
      ]
    },
    {
      "cell_type": "markdown",
      "metadata": {
        "id": "Yw4kpPYjwJJw",
        "colab_type": "text"
      },
      "source": [
        "The next step is to scale the data. We notice that the range for grades is 1.0-4.0, whereas the range for test scores is roughly 200-800, which is much larger. This means our data is skewed, and that makes it hard for a neural network to handle. Let's fit our two features into a range of 0-1, by dividing the grades by 4.0, and the test score by 800."
      ]
    },
    {
      "cell_type": "code",
      "metadata": {
        "id": "fHhuu-Jlwa7W",
        "colab_type": "code",
        "colab": {}
      },
      "source": [
        "minmax_scaler = preprocessing.MinMaxScaler()\n",
        "scaled = minmax_scaler.fit_transform(student_data[['gre', 'gpa']])\n",
        "scaled = pd.DataFrame(data = scaled[:, :], columns = ['gre', 'gpa'])"
      ],
      "execution_count": 0,
      "outputs": []
    },
    {
      "cell_type": "code",
      "metadata": {
        "id": "fnhtR82e0f90",
        "colab_type": "code",
        "colab": {}
      },
      "source": [
        "processed_data = student_data_ohe.copy()"
      ],
      "execution_count": 0,
      "outputs": []
    },
    {
      "cell_type": "code",
      "metadata": {
        "id": "8R2rLzG20Qd-",
        "colab_type": "code",
        "colab": {}
      },
      "source": [
        "processed_data['gre'] = scaled['gre']\n",
        "processed_data['gpa'] = scaled['gpa']"
      ],
      "execution_count": 0,
      "outputs": []
    },
    {
      "cell_type": "code",
      "metadata": {
        "id": "fNPUqDy318U1",
        "colab_type": "code",
        "colab": {
          "base_uri": "https://localhost:8080/",
          "height": 194
        },
        "outputId": "ac6231ee-31f2-4e57-ef97-00bcd6c8a1f5"
      },
      "source": [
        "processed_data.head()"
      ],
      "execution_count": 9,
      "outputs": [
        {
          "output_type": "execute_result",
          "data": {
            "text/html": [
              "<div>\n",
              "<style scoped>\n",
              "    .dataframe tbody tr th:only-of-type {\n",
              "        vertical-align: middle;\n",
              "    }\n",
              "\n",
              "    .dataframe tbody tr th {\n",
              "        vertical-align: top;\n",
              "    }\n",
              "\n",
              "    .dataframe thead th {\n",
              "        text-align: right;\n",
              "    }\n",
              "</style>\n",
              "<table border=\"1\" class=\"dataframe\">\n",
              "  <thead>\n",
              "    <tr style=\"text-align: right;\">\n",
              "      <th></th>\n",
              "      <th>admit</th>\n",
              "      <th>gre</th>\n",
              "      <th>gpa</th>\n",
              "      <th>rank_1</th>\n",
              "      <th>rank_2</th>\n",
              "      <th>rank_3</th>\n",
              "      <th>rank_4</th>\n",
              "    </tr>\n",
              "  </thead>\n",
              "  <tbody>\n",
              "    <tr>\n",
              "      <th>0</th>\n",
              "      <td>0</td>\n",
              "      <td>0.275862</td>\n",
              "      <td>0.775862</td>\n",
              "      <td>0</td>\n",
              "      <td>0</td>\n",
              "      <td>1</td>\n",
              "      <td>0</td>\n",
              "    </tr>\n",
              "    <tr>\n",
              "      <th>1</th>\n",
              "      <td>1</td>\n",
              "      <td>0.758621</td>\n",
              "      <td>0.810345</td>\n",
              "      <td>0</td>\n",
              "      <td>0</td>\n",
              "      <td>1</td>\n",
              "      <td>0</td>\n",
              "    </tr>\n",
              "    <tr>\n",
              "      <th>2</th>\n",
              "      <td>1</td>\n",
              "      <td>1.000000</td>\n",
              "      <td>1.000000</td>\n",
              "      <td>1</td>\n",
              "      <td>0</td>\n",
              "      <td>0</td>\n",
              "      <td>0</td>\n",
              "    </tr>\n",
              "    <tr>\n",
              "      <th>3</th>\n",
              "      <td>1</td>\n",
              "      <td>0.724138</td>\n",
              "      <td>0.534483</td>\n",
              "      <td>0</td>\n",
              "      <td>0</td>\n",
              "      <td>0</td>\n",
              "      <td>1</td>\n",
              "    </tr>\n",
              "    <tr>\n",
              "      <th>4</th>\n",
              "      <td>0</td>\n",
              "      <td>0.517241</td>\n",
              "      <td>0.385057</td>\n",
              "      <td>0</td>\n",
              "      <td>0</td>\n",
              "      <td>0</td>\n",
              "      <td>1</td>\n",
              "    </tr>\n",
              "  </tbody>\n",
              "</table>\n",
              "</div>"
            ],
            "text/plain": [
              "   admit       gre       gpa  rank_1  rank_2  rank_3  rank_4\n",
              "0      0  0.275862  0.775862       0       0       1       0\n",
              "1      1  0.758621  0.810345       0       0       1       0\n",
              "2      1  1.000000  1.000000       1       0       0       0\n",
              "3      1  0.724138  0.534483       0       0       0       1\n",
              "4      0  0.517241  0.385057       0       0       0       1"
            ]
          },
          "metadata": {
            "tags": []
          },
          "execution_count": 9
        }
      ]
    },
    {
      "cell_type": "code",
      "metadata": {
        "id": "21rla7OXwIRD",
        "colab_type": "code",
        "colab": {}
      },
      "source": [
        "\n",
        "# Scaling the columns\n",
        "#processed_data['gre'] = processed_data['gre']/800\n",
        "#processed_data['gpa'] = processed_data['gpa']/4.0\n",
        "#processed_data[:10]"
      ],
      "execution_count": 0,
      "outputs": []
    },
    {
      "cell_type": "markdown",
      "metadata": {
        "id": "JR9X6Slw5Bel",
        "colab_type": "text"
      },
      "source": [
        "##**Splitting the data into Test and Train sets**##"
      ]
    },
    {
      "cell_type": "code",
      "metadata": {
        "id": "G25vN0YY5XAP",
        "colab_type": "code",
        "colab": {
          "base_uri": "https://localhost:8080/",
          "height": 444
        },
        "outputId": "f289ff3b-28c2-4b17-f3a3-a1fe9d2f103c"
      },
      "source": [
        "sample = np.random.choice(processed_data.index, size = int(len(processed_data) * 0.75), replace = False)\n",
        "train_data, test_data = processed_data.iloc[sample], processed_data.drop(sample)\n",
        "\n",
        "print('Number of training samples is', len(train_data))\n",
        "print('Number of testing samples is', len(test_data))\n",
        "print(train_data[:10])\n",
        "print(test_data[:10])"
      ],
      "execution_count": 11,
      "outputs": [
        {
          "output_type": "stream",
          "text": [
            "Number of training samples is 300\n",
            "Number of testing samples is 100\n",
            "     admit       gre       gpa  rank_1  rank_2  rank_3  rank_4\n",
            "74       0  0.862069  0.683908       0       0       0       1\n",
            "115      0  0.689655  0.994253       0       0       1       0\n",
            "66       0  0.896552  0.781609       0       0       0       1\n",
            "51       0  0.379310  0.500000       0       0       0       1\n",
            "254      1  0.896552  0.724138       0       0       0       1\n",
            "43       0  0.482759  0.603448       0       0       1       0\n",
            "168      0  0.482759  1.000000       0       0       1       0\n",
            "67       0  0.689655  0.597701       1       0       0       0\n",
            "70       0  0.724138  1.000000       0       0       1       0\n",
            "278      1  0.793103  0.425287       0       0       0       1\n",
            "    admit       gre       gpa  rank_1  rank_2  rank_3  rank_4\n",
            "1       1  0.758621  0.810345       0       0       1       0\n",
            "3       1  0.724138  0.534483       0       0       0       1\n",
            "6       1  0.586207  0.413793       1       0       0       0\n",
            "10      0  1.000000  1.000000       0       0       0       1\n",
            "15      0  0.448276  0.678161       0       0       1       0\n",
            "17      0  0.241379  0.172414       0       0       1       0\n",
            "20      0  0.482759  0.522989       0       0       1       0\n",
            "30      0  0.551724  0.873563       0       0       0       1\n",
            "44      0  0.827586  0.390805       0       1       0       0\n",
            "45      1  0.413793  0.683908       0       0       1       0\n"
          ],
          "name": "stdout"
        }
      ]
    },
    {
      "cell_type": "markdown",
      "metadata": {
        "id": "mleWoKny54gV",
        "colab_type": "text"
      },
      "source": [
        "##**Splitting the data into features and targets (labels)**##"
      ]
    },
    {
      "cell_type": "code",
      "metadata": {
        "id": "JF2LM5do5AC7",
        "colab_type": "code",
        "colab": {
          "base_uri": "https://localhost:8080/",
          "height": 408
        },
        "outputId": "aac27964-32f3-465a-9ac5-1c74fb9b8bad"
      },
      "source": [
        "features = train_data.drop('admit', axis = 1)\n",
        "targets = train_data['admit']\n",
        "features_test = test_data.drop('admit', axis = 1)\n",
        "targets_test = test_data['admit']\n",
        "\n",
        "print(features[:10])\n",
        "print(targets[:10])"
      ],
      "execution_count": 12,
      "outputs": [
        {
          "output_type": "stream",
          "text": [
            "          gre       gpa  rank_1  rank_2  rank_3  rank_4\n",
            "74   0.862069  0.683908       0       0       0       1\n",
            "115  0.689655  0.994253       0       0       1       0\n",
            "66   0.896552  0.781609       0       0       0       1\n",
            "51   0.379310  0.500000       0       0       0       1\n",
            "254  0.896552  0.724138       0       0       0       1\n",
            "43   0.482759  0.603448       0       0       1       0\n",
            "168  0.482759  1.000000       0       0       1       0\n",
            "67   0.689655  0.597701       1       0       0       0\n",
            "70   0.724138  1.000000       0       0       1       0\n",
            "278  0.793103  0.425287       0       0       0       1\n",
            "74     0\n",
            "115    0\n",
            "66     0\n",
            "51     0\n",
            "254    1\n",
            "43     0\n",
            "168    0\n",
            "67     0\n",
            "70     0\n",
            "278    1\n",
            "Name: admit, dtype: int64\n"
          ],
          "name": "stdout"
        }
      ]
    },
    {
      "cell_type": "markdown",
      "metadata": {
        "id": "k1yh0j5u6Dz_",
        "colab_type": "text"
      },
      "source": [
        "##**Training the 2-Layer Neural Network**##"
      ]
    },
    {
      "cell_type": "code",
      "metadata": {
        "id": "Gze64TU16EV5",
        "colab_type": "code",
        "colab": {}
      },
      "source": [
        "# Activation (sigmoid) function\n",
        "def sigmoid(x):\n",
        "    return 1 / (1 + np.exp(-x))\n",
        "\n",
        "def sigmoid_prime(x):\n",
        "    return sigmoid(x) * (1-sigmoid(x))\n",
        "    \n",
        "def error_formula(y, output):\n",
        "    return - y * np.log(output) - (1 - y) * np.log(1-output)"
      ],
      "execution_count": 0,
      "outputs": []
    },
    {
      "cell_type": "markdown",
      "metadata": {
        "id": "0K6AOZjk2a7w",
        "colab_type": "text"
      },
      "source": [
        "##**Backpropagating the Data**##"
      ]
    },
    {
      "cell_type": "code",
      "metadata": {
        "id": "75Yx4a6j2Y8W",
        "colab_type": "code",
        "colab": {}
      },
      "source": [
        "def error_term_formula(x, y, output):\n",
        "    return (y - output) * sigmoid_prime(x)"
      ],
      "execution_count": 0,
      "outputs": []
    },
    {
      "cell_type": "code",
      "metadata": {
        "id": "KzEum8C669XO",
        "colab_type": "code",
        "colab": {
          "base_uri": "https://localhost:8080/",
          "height": 568
        },
        "outputId": "d0daa5c3-847b-4f5a-d5f9-2c43ddade223"
      },
      "source": [
        "# Neural Network hyperparameters\n",
        "epochs = 1000\n",
        "learnrate = 3.5\n",
        "\n",
        "# Training function\n",
        "def train_nn(features, targets, epochs, learnrate):\n",
        "    \n",
        "    # Use to same seed to make debugging easier\n",
        "    np.random.seed(42)\n",
        "\n",
        "    n_records, n_features = features.shape\n",
        "    last_loss = None\n",
        "\n",
        "    # Initialize weights\n",
        "    weights = np.random.normal(scale = 1 / n_features ** .5, size = n_features)\n",
        "\n",
        "    for e in range(epochs):\n",
        "        del_w = np.zeros(weights.shape)\n",
        "        for x, y in zip(features.values, targets):\n",
        "            # Loop through all records, x is the input, y is the target\n",
        "\n",
        "            # Activation of the output unit\n",
        "            #   Notice we multiply the inputs and the weights here \n",
        "            #   rather than storing h as a separate variable \n",
        "            output = sigmoid(np.dot(x, weights))\n",
        "\n",
        "            # The error, the target minus the network output\n",
        "            error = error_formula(y, output)\n",
        "\n",
        "            # The error term\n",
        "            error_term = error_term_formula(x, y, output)\n",
        "\n",
        "            # The gradient descent step, the error times the gradient times the inputs\n",
        "            del_w += error_term * x\n",
        "\n",
        "        # Update the weights here. The learning rate times the \n",
        "        # change in weights, divided by the number of records to average\n",
        "        weights += learnrate * del_w / n_records\n",
        "\n",
        "        # Printing out the mean square error on the training set\n",
        "        if e % (epochs / 10) == 0:\n",
        "            out = sigmoid(np.dot(features, weights))\n",
        "            loss = np.mean((out - targets) ** 2)\n",
        "            print(\"Epoch:\", e)\n",
        "            if last_loss and last_loss < loss:\n",
        "                print(\"Train loss: \", loss, \"  WARNING - Loss Increasing\")\n",
        "            else:\n",
        "                print(\"Train loss: \", loss)\n",
        "            last_loss = loss\n",
        "            print(\"=========\")\n",
        "    print(\"Finished training!\")\n",
        "    return weights\n",
        "    \n",
        "weights = train_nn(features, targets, epochs, learnrate)"
      ],
      "execution_count": 15,
      "outputs": [
        {
          "output_type": "stream",
          "text": [
            "Epoch: 0\n",
            "Train loss:  0.2569362257526722\n",
            "=========\n",
            "Epoch: 100\n",
            "Train loss:  0.21267399250660482\n",
            "=========\n",
            "Epoch: 200\n",
            "Train loss:  0.20797555250254177\n",
            "=========\n",
            "Epoch: 300\n",
            "Train loss:  0.2046394266843967\n",
            "=========\n",
            "Epoch: 400\n",
            "Train loss:  0.2022529782143285\n",
            "=========\n",
            "Epoch: 500\n",
            "Train loss:  0.200540137250401\n",
            "=========\n",
            "Epoch: 600\n",
            "Train loss:  0.199304115521258\n",
            "=========\n",
            "Epoch: 700\n",
            "Train loss:  0.19840713073259772\n",
            "=========\n",
            "Epoch: 800\n",
            "Train loss:  0.1977528363413798\n",
            "=========\n",
            "Epoch: 900\n",
            "Train loss:  0.19727352265158637\n",
            "=========\n",
            "Finished training!\n"
          ],
          "name": "stdout"
        }
      ]
    },
    {
      "cell_type": "markdown",
      "metadata": {
        "id": "KPnF05DQ7gS_",
        "colab_type": "text"
      },
      "source": [
        "##**Calculating the Accuracy on the Test Data**##"
      ]
    },
    {
      "cell_type": "code",
      "metadata": {
        "id": "OoyCb7Dn7njI",
        "colab_type": "code",
        "colab": {
          "base_uri": "https://localhost:8080/",
          "height": 35
        },
        "outputId": "7997b036-8cdc-4ce9-8c58-324c1b804e09"
      },
      "source": [
        "# Calculate accuracy on test data\n",
        "test_out = sigmoid(np.dot(features_test, weights))\n",
        "predictions = test_out > 0.5\n",
        "accuracy = np.mean(predictions == targets_test)\n",
        "print('Prediction accuracy: {:.3f}'.format(accuracy))"
      ],
      "execution_count": 16,
      "outputs": [
        {
          "output_type": "stream",
          "text": [
            "Prediction accuracy: 0.740\n"
          ],
          "name": "stdout"
        }
      ]
    }
  ]
}